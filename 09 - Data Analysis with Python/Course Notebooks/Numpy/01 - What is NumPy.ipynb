{
 "cells": [
  {
   "cell_type": "markdown",
   "metadata": {},
   "source": [
    "# What is NumPy?\n",
    "NumPy is a multi-dimensional array library. We can use numpy to store all sorts of data like 1d array, 2d array, 3d array etc."
   ]
  },
  {
   "cell_type": "markdown",
   "metadata": {},
   "source": [
    "#### Why to use NumPy over Lists ?\n",
    "- NumPy uses Fixed type. Thus, uses **less storage**. List uses built-in class objects to represent data that take up more storage.\n",
    "- Since NumPy uses less bytes of memory, its **Faster to read** less bytes of memory.\n",
    "- There is **No type checking** when iterating through objects.\n",
    "- NumPy uses **contiguous memory** space to store data.\n",
    "\n",
    "Further, Numpy offers more operations on data.\n"
   ]
  },
  {
   "cell_type": "markdown",
   "metadata": {},
   "source": [
    "#### Applications of Numpy ?\n",
    "- Mathematics (MATLAB Replacement)\n",
    "- Plotting (Matplotlib)\n",
    "- provides Backend support (Pandas, Connect 4, Digital Photography)\n",
    "- Machine Learning"
   ]
  },
  {
   "cell_type": "markdown",
   "metadata": {},
   "source": []
  }
 ],
 "metadata": {
  "language_info": {
   "name": "python"
  }
 },
 "nbformat": 4,
 "nbformat_minor": 2
}
